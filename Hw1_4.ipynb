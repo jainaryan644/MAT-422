{
  "nbformat": 4,
  "nbformat_minor": 0,
  "metadata": {
    "colab": {
      "provenance": [],
      "authorship_tag": "ABX9TyO7nXWCHa3Fa1h0xa9y0qZH",
      "include_colab_link": true
    },
    "kernelspec": {
      "name": "python3",
      "display_name": "Python 3"
    },
    "language_info": {
      "name": "python"
    }
  },
  "cells": [
    {
      "cell_type": "markdown",
      "metadata": {
        "id": "view-in-github",
        "colab_type": "text"
      },
      "source": [
        "<a href=\"https://colab.research.google.com/github/jainaryan644/MAT-422/blob/main/Hw1_4.ipynb\" target=\"_parent\"><img src=\"https://colab.research.google.com/assets/colab-badge.svg\" alt=\"Open In Colab\"/></a>"
      ]
    },
    {
      "cell_type": "markdown",
      "source": [
        "HW 1.4"
      ],
      "metadata": {
        "id": "HBn53bmp9I7b"
      }
    },
    {
      "cell_type": "markdown",
      "source": [
        "1.4.1. Singular value decomposition"
      ],
      "metadata": {
        "id": "rNI-zQoP9LzZ"
      }
    },
    {
      "cell_type": "code",
      "source": [
        "import numpy as np\n",
        "from sklearn.decomposition import PCA\n",
        "import matplotlib.pyplot as plt"
      ],
      "metadata": {
        "id": "Fh2VzjVC_7PO"
      },
      "execution_count": 10,
      "outputs": []
    },
    {
      "cell_type": "code",
      "execution_count": 2,
      "metadata": {
        "colab": {
          "base_uri": "https://localhost:8080/"
        },
        "id": "lczz4ZIH7Ghr",
        "outputId": "e0714415-05d4-472f-b559-defe57843a49"
      },
      "outputs": [
        {
          "output_type": "stream",
          "name": "stdout",
          "text": [
            "Matrix A:\n",
            "[[1 0]\n",
            " [0 1]\n",
            " [1 1]]\n",
            "\n",
            "Left singular vectors (U):\n",
            "[[-4.08248290e-01  7.07106781e-01 -5.77350269e-01]\n",
            " [-4.08248290e-01 -7.07106781e-01 -5.77350269e-01]\n",
            " [-8.16496581e-01 -1.22629285e-16  5.77350269e-01]]\n",
            "\n",
            "Singular values (S):\n",
            "[1.73205081 1.        ]\n",
            "\n",
            "Right singular vectors (V^T):\n",
            "[[-0.70710678 -0.70710678]\n",
            " [ 0.70710678 -0.70710678]]\n",
            "\n",
            "Reconstructed matrix:\n",
            "[[ 1.00000000e+00 -1.65911125e-16]\n",
            " [ 6.22328532e-19  1.00000000e+00]\n",
            " [ 1.00000000e+00  1.00000000e+00]]\n"
          ]
        }
      ],
      "source": [
        "'''Singular Value Decomposition (SVD) is a factorization technique to decompose a matrix\n",
        "into 3 simpler matrices. For any m x n matrix, A, the formula is\n",
        "A = UΣV^T\n",
        "A = m x n matrix\n",
        "U = m x m orthogonal matrix lefthand singular vectors\n",
        "Σ = m x n diagonal matrix\n",
        "V = n x n orthogonal matrix righthand singular vectors\n",
        "'''\n",
        "\n",
        "A = np.array([[1, 0], [0, 1], [1, 1]])\n",
        "\n",
        "U, S, VT = np.linalg.svd(A)\n",
        "\n",
        "print(\"Matrix A:\")\n",
        "print(A)\n",
        "\n",
        "print(\"\\nLeft singular vectors (U):\")\n",
        "print(U)\n",
        "\n",
        "print(\"\\nSingular values (S):\")\n",
        "print(S)\n",
        "\n",
        "print(\"\\nRight singular vectors (V^T):\")\n",
        "print(VT)\n",
        "\n",
        "sigma = np.zeros((A.shape[0], A.shape[1]))\n",
        "np.fill_diagonal(sigma, S)\n",
        "A_reconstructed = U @ sigma @ VT\n",
        "\n",
        "print(\"\\nReconstructed matrix:\")\n",
        "print(A_reconstructed)\n"
      ]
    },
    {
      "cell_type": "markdown",
      "source": [
        "1.4.2. Low-rank matrix approximations"
      ],
      "metadata": {
        "id": "7KKle4u1AKCE"
      }
    },
    {
      "cell_type": "code",
      "source": [
        "'''\n",
        "Low-rank approx. approximates a matrix by another matrix of lower rank.\n",
        "This retains the information from the original matrix while reducing its size.\n",
        "This can be calculated using the Singular Value Decomposition (SVD) technique.\n",
        "'''\n",
        "\n",
        "A = np.array([[4, 2, 1, 1],\n",
        "              [3, 1, 0, 0],\n",
        "              [2, 0, 1, 0],\n",
        "              [0, 1, 1, 1]])\n",
        "\n",
        "U, S, VT = np.linalg.svd(A, full_matrices=False)\n",
        "\n",
        "Sigma = np.diag(S)\n",
        "\n",
        "k = 1\n",
        "U_k = U[:, :k]\n",
        "Sigma_k = Sigma[:k, :k]\n",
        "VT_k = VT[:k, :]\n",
        "\n",
        "A_k = U_k @ Sigma_k @ VT_k\n",
        "\n",
        "print(\"Original matrix A:\")\n",
        "print(A)\n",
        "\n",
        "print(\"\\nRank-1 approximation of A:\")\n",
        "print(A_k)"
      ],
      "metadata": {
        "colab": {
          "base_uri": "https://localhost:8080/"
        },
        "id": "RQON_Me3ANUV",
        "outputId": "b3a9f892-9c78-41b5-c973-7887409a1662"
      },
      "execution_count": 7,
      "outputs": [
        {
          "output_type": "stream",
          "name": "stdout",
          "text": [
            "Original matrix A:\n",
            "[[4 2 1 1]\n",
            " [3 1 0 0]\n",
            " [2 0 1 0]\n",
            " [0 1 1 1]]\n",
            "\n",
            "Rank-1 approximation of A:\n",
            "[[4.17212511 1.71999795 0.96935788 0.70779475]\n",
            " [2.72387813 1.12294447 0.63286998 0.46210183]\n",
            " [1.78199412 0.73464389 0.41403122 0.30231262]\n",
            " [0.64998466 0.26796231 0.15101842 0.11026892]]\n"
          ]
        }
      ]
    },
    {
      "cell_type": "markdown",
      "source": [
        "1.4.3. Principal component analysis"
      ],
      "metadata": {
        "id": "CfCpR9t2CMJI"
      }
    },
    {
      "cell_type": "code",
      "source": [
        "''' Principal component analysis (PCA) identifies patterns in data and express\n",
        "similarities in differences in the data. It transforms the original dataset into\n",
        "a new set of variables called principal components.\n",
        "\n",
        "Given dataset X with m rows and n columns, PCA centers the data first using\n",
        "Xcentered = X - Xbar\n",
        "Xbar = mean of each column\n",
        "\n",
        "2. compute covariance\n",
        "Σ= (1 / (m−1))* X^Tcentered * Xcentered.\n",
        "3. compute eigenvectors/values\n",
        "Σvi = λi*vi\n",
        "​4. sort eigenvectors\n",
        "5. select top k principal components\n",
        "6. project data onto principal components\n",
        "Xreduced = Xcentered * Pk\n",
        "\n",
        "PCA formula is SVD formula\n",
        "'''\n",
        "\n",
        "X = np.array([[1, 2, 3],\n",
        "              [4, 5, 6],\n",
        "              [7, 8, 9],\n",
        "              [10, 11, 12]])\n",
        "\n",
        "X_centered = X - np.mean(X, axis=0)\n",
        "\n",
        "pca = PCA(n_components=2)\n",
        "X_pca = pca.fit_transform(X_centered)\n",
        "\n",
        "print(\"Original Data (centered):\")\n",
        "print(X_centered)\n",
        "\n",
        "print(\"\\nTransformed Data (PCA):\")\n",
        "print(X_pca)\n",
        "\n",
        "plt.scatter(X_pca[:, 0], X_pca[:, 1], color='blue', label='Transformed Data')\n",
        "plt.xlabel('Principal Component 1')\n",
        "plt.ylabel('Principal Component 2')\n",
        "plt.title('PCA Transformation')\n",
        "plt.grid(True)\n",
        "plt.legend()\n",
        "plt.show()\n",
        "\n"
      ],
      "metadata": {
        "colab": {
          "base_uri": "https://localhost:8080/",
          "height": 668
        },
        "id": "5aze5atnCSKn",
        "outputId": "e36ee414-a353-40f1-802a-9a3911073090"
      },
      "execution_count": 11,
      "outputs": [
        {
          "output_type": "stream",
          "name": "stdout",
          "text": [
            "Original Data (centered):\n",
            "[[-4.5 -4.5 -4.5]\n",
            " [-1.5 -1.5 -1.5]\n",
            " [ 1.5  1.5  1.5]\n",
            " [ 4.5  4.5  4.5]]\n",
            "\n",
            "Transformed Data (PCA):\n",
            "[[-7.79422863  0.        ]\n",
            " [-2.59807621  0.        ]\n",
            " [ 2.59807621  0.        ]\n",
            " [ 7.79422863 -0.        ]]\n"
          ]
        },
        {
          "output_type": "display_data",
          "data": {
            "text/plain": [
              "<Figure size 640x480 with 1 Axes>"
            ],
            "image/png": "[encoded data removed]"
          },
          "metadata": {}
        }
      ]
    }
  ]
}