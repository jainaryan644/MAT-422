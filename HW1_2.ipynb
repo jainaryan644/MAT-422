{
  "nbformat": 4,
  "nbformat_minor": 0,
  "metadata": {
    "colab": {
      "provenance": [],
      "authorship_tag": "ABX9TyNvID16z2bPy9WtZhYxYK+E",
      "include_colab_link": true
    },
    "kernelspec": {
      "name": "python3",
      "display_name": "Python 3"
    },
    "language_info": {
      "name": "python"
    }
  },
  "cells": [
    {
      "cell_type": "markdown",
      "metadata": {
        "id": "view-in-github",
        "colab_type": "text"
      },
      "source": [
        "<a href=\"https://colab.research.google.com/github/jainaryan644/MAT-422/blob/main/HW1_2.ipynb\" target=\"_parent\"><img src=\"https://colab.research.google.com/assets/colab-badge.svg\" alt=\"Open In Colab\"/></a>"
      ]
    },
    {
      "cell_type": "markdown",
      "source": [
        "1.2.1 Linear Spaces"
      ],
      "metadata": {
        "id": "qbLXa0GHB7pL"
      }
    },
    {
      "cell_type": "code",
      "execution_count": 41,
      "metadata": {
        "id": "HE6gihFiAw3E"
      },
      "outputs": [],
      "source": [
        "import itertools\n",
        "import numpy as np\n",
        "import matplotlib.pyplot as plt\n"
      ]
    },
    {
      "cell_type": "code",
      "source": [
        "#linear combination\n",
        "\n",
        "a = np.array([1, 2])\n",
        "b = np.array([3, 1])\n",
        "c = 2*a - b\n",
        "print(c)\n"
      ],
      "metadata": {
        "colab": {
          "base_uri": "https://localhost:8080/"
        },
        "id": "lrwUJomkGjhF",
        "outputId": "20cd999d-818b-40fd-fb4b-0d33395f27b4"
      },
      "execution_count": 4,
      "outputs": [
        {
          "output_type": "stream",
          "name": "stdout",
          "text": [
            "[-1  3]\n"
          ]
        }
      ]
    },
    {
      "cell_type": "code",
      "source": [
        "# linear subspace and span\n",
        "\n",
        "a = np.array([1, 2])\n",
        "b = np.array([3, 1])\n",
        "\n",
        "scalars = range(-2,3)\n",
        "span = []\n",
        "\n",
        "for a1, b1 in itertools.product(scalars, scalars):\n",
        "    span.append(a*a1 + b*b1)\n",
        "\n",
        "print(span)\n",
        "for v in span:\n",
        "  print(v)"
      ],
      "metadata": {
        "colab": {
          "base_uri": "https://localhost:8080/"
        },
        "id": "tPVLEDpeHsJo",
        "outputId": "431c1527-f60a-4adb-e82f-71f7a1d19670"
      },
      "execution_count": 7,
      "outputs": [
        {
          "output_type": "stream",
          "name": "stdout",
          "text": [
            "[array([-8, -6]), array([-5, -5]), array([-2, -4]), array([ 1, -3]), array([ 4, -2]), array([-7, -4]), array([-4, -3]), array([-1, -2]), array([ 2, -1]), array([5, 0]), array([-6, -2]), array([-3, -1]), array([0, 0]), array([3, 1]), array([6, 2]), array([-5,  0]), array([-2,  1]), array([1, 2]), array([4, 3]), array([7, 4]), array([-4,  2]), array([-1,  3]), array([2, 4]), array([5, 5]), array([8, 6])]\n",
            "[-8 -6]\n",
            "[-5 -5]\n",
            "[-2 -4]\n",
            "[ 1 -3]\n",
            "[ 4 -2]\n",
            "[-7 -4]\n",
            "[-4 -3]\n",
            "[-1 -2]\n",
            "[ 2 -1]\n",
            "[5 0]\n",
            "[-6 -2]\n",
            "[-3 -1]\n",
            "[0 0]\n",
            "[3 1]\n",
            "[6 2]\n",
            "[-5  0]\n",
            "[-2  1]\n",
            "[1 2]\n",
            "[4 3]\n",
            "[7 4]\n",
            "[-4  2]\n",
            "[-1  3]\n",
            "[2 4]\n",
            "[5 5]\n",
            "[8 6]\n"
          ]
        }
      ]
    },
    {
      "cell_type": "code",
      "source": [
        "#linear independence\n",
        "\n",
        "def dependence(a, b):\n",
        "  print(\"Vectors are linearly dependent\") if np.linalg.det(np.stack((a, b), axis=-1))==0 else print(\"Vectors are linearly independent\")\n",
        "\n",
        "a = np.array([1, 2])\n",
        "b = np.array([3, 1])\n",
        "c = np.array([2, 4])\n",
        "dependence(a, b)\n",
        "dependence(a, c)"
      ],
      "metadata": {
        "colab": {
          "base_uri": "https://localhost:8080/"
        },
        "id": "iT6nBbleIKnq",
        "outputId": "761e0851-b2f2-4d24-c4b1-b05568a84308"
      },
      "execution_count": 26,
      "outputs": [
        {
          "output_type": "stream",
          "name": "stdout",
          "text": [
            "Vectors are linearly independent\n",
            "Vectors are linearly dependent\n"
          ]
        }
      ]
    },
    {
      "cell_type": "code",
      "source": [
        "# basis, dimension, and column space\n",
        "\n",
        "a = np.array([[1, 2], [3, 1]])\n",
        "rank = np.linalg.matrix_rank(a)\n",
        "print(rank)\n",
        "\n",
        "basis = np.linalg.qr(a)[0]\n",
        "print(basis)\n"
      ],
      "metadata": {
        "colab": {
          "base_uri": "https://localhost:8080/"
        },
        "id": "AwwqXiwCKjaj",
        "outputId": "c6461bae-1fe4-4abc-adb8-4027310ce3f9"
      },
      "execution_count": 29,
      "outputs": [
        {
          "output_type": "stream",
          "name": "stdout",
          "text": [
            "2\n",
            "[[-0.31622777 -0.9486833 ]\n",
            " [-0.9486833   0.31622777]]\n"
          ]
        }
      ]
    },
    {
      "cell_type": "markdown",
      "source": [
        "1.2.2. Orthogonality"
      ],
      "metadata": {
        "id": "1DE_-PkqIvAy"
      }
    },
    {
      "cell_type": "code",
      "source": [
        "#Dot Product: measure for orthogonality\n",
        "a = np.array([1,2,3])\n",
        "b = np.array([4,5,6])\n",
        "dp = np.dot(a,b)\n",
        "print(\"Dot Product is {dp}\")\n"
      ],
      "metadata": {
        "colab": {
          "base_uri": "https://localhost:8080/"
        },
        "id": "PEhJZcJSJDan",
        "outputId": "8bed1268-6c67-4231-9d26-71fcd3172c19"
      },
      "execution_count": 31,
      "outputs": [
        {
          "output_type": "stream",
          "name": "stdout",
          "text": [
            "Dot Product is {dp}\n"
          ]
        }
      ]
    },
    {
      "cell_type": "code",
      "source": [
        "#check for orthogonality: if dot product is 0 then vectors are orthogonal\n",
        "answer = \"a and b are orthogonal\" if dp == 0 else \"a and b are not orthogonal\"\n",
        "print(answer)"
      ],
      "metadata": {
        "colab": {
          "base_uri": "https://localhost:8080/"
        },
        "id": "vrCr7bfaJnps",
        "outputId": "75e13ea5-8745-4001-e409-de2124c6e6f0"
      },
      "execution_count": 7,
      "outputs": [
        {
          "output_type": "stream",
          "name": "stdout",
          "text": [
            "a and b are not orthogonal\n"
          ]
        }
      ]
    },
    {
      "cell_type": "code",
      "source": [
        "#visualize vectors a and b\n",
        "plt.figure(figsize=(10,10))\n",
        "plt.quiver(0,0,a[0],a[1],angles='xy',scale_units='xy',scale=1, color='r', label='a')\n",
        "plt.quiver(0,0,b[0],b[1],angles='xy',scale_units='xy',scale=1, color='b', label='b')\n",
        "plt.xlim(-1,2)\n",
        "plt.ylim(-1,2)\n",
        "\n",
        "plt.axhline(y=0, color='k')\n",
        "plt.axvline(x=0, color='k')\n",
        "plt.grid()\n",
        "plt.legend()\n",
        "\n",
        "plt.xlabel(\"x\")\n",
        "plt.ylabel(\"y\")\n",
        "plt.gca().set_aspect('equal')\n",
        "plt.show()"
      ],
      "metadata": {
        "colab": {
          "base_uri": "https://localhost:8080/",
          "height": 633
        },
        "id": "FsCxf5hrKsbj",
        "outputId": "662b9454-25e9-48e5-b97b-4c55c6411062"
      },
      "execution_count": 11,
      "outputs": [
        {
          "output_type": "display_data",
          "data": {
            "text/plain": [
              "<Figure size 1000x1000 with 1 Axes>"
            ],
            "image/png": "[encoded data removed]"
          },
          "metadata": {}
        }
      ]
    },
    {
      "cell_type": "code",
      "source": [
        "#vector projection\n",
        "c = np.array([2,3, 4])\n",
        "norm = np.linalg.norm(c)\n",
        "print(\"Norm is\", norm)\n",
        "cp1 = np.dot(a,c) / np.dot(a,a) * a\n",
        "cp2 = np.dot(b,c) / np.dot(b,b) * b\n",
        "\n",
        "plt.figure()\n",
        "plt.quiver(0,0,a[0],a[1],angles='xy',scale_units='xy',scale=1, color='r', label='a')\n",
        "plt.quiver(0,0,b[0],b[1],angles='xy',scale_units='xy',scale=1, color='b', label='b')\n",
        "plt.quiver(0,0,c[0],c[1],angles='xy',scale_units='xy',scale=1, color='g', label='c')\n",
        "plt.quiver(0,0,cp1[0],cp1[1],angles='xy',scale_units='xy',scale=1, color='m', label='Proj of v3 onto v1')\n",
        "plt.quiver(0,0,cp2[0],cp2[1],angles='xy',scale_units='xy',scale=1, color='c', label='Proj of v3 onto v2')\n",
        "\n",
        "plt.xlim(-1,3)\n",
        "plt.ylim(-1,4)\n",
        "\n",
        "plt.axhline(y=0, color='k')\n",
        "plt.axvline(x=0, color='k')\n",
        "plt.grid()\n",
        "plt.legend()\n",
        "plt.show()"
      ],
      "metadata": {
        "colab": {
          "base_uri": "https://localhost:8080/",
          "height": 453
        },
        "id": "HYIZWCoELvh6",
        "outputId": "cd12d487-f6fa-4f16-ec83-56b29ff4bbd4"
      },
      "execution_count": 33,
      "outputs": [
        {
          "output_type": "stream",
          "name": "stdout",
          "text": [
            "Norm is 5.385164807134504\n"
          ]
        },
        {
          "output_type": "display_data",
          "data": {
            "text/plain": [
              "<Figure size 640x480 with 1 Axes>"
            ],
            "image/png": "[encoded data removed]"
          },
          "metadata": {}
        }
      ]
    },
    {
      "cell_type": "markdown",
      "source": [
        "1.2.3 Gram-Schmidt process"
      ],
      "metadata": {
        "id": "pPEQbPrKMhoo"
      }
    },
    {
      "cell_type": "code",
      "source": [
        "def gram_schmidt(X):\n",
        "  Y = np.zeros_like(X, dtype=float)\n",
        "  for i in range(X.shape[0]):\n",
        "    y = X[i]\n",
        "    for j in range(i):\n",
        "      if np.dot(Y[j], Y[j]) == 0:\n",
        "        continue\n",
        "      proj = np.dot(y, Y[j]) * Y[j] / np.dot(Y[j], Y[j])\n",
        "      y = y- proj\n",
        "    if np.linalg.norm(y) > 1e-10:\n",
        "      Y[i] = y / np.linalg.norm(y)\n",
        "  return Y\n",
        "\n",
        "X = np.array([[1, 1, 0], [1, 0, 1], [0, 1, 1]])\n",
        "Y = gram_schmidt(X)\n",
        "print(X)\n",
        "print(\"\"\".\n",
        ".\n",
        ".\n",
        ".\n",
        ".\n",
        ".\n",
        "\"\"\")\n",
        "print(Y)"
      ],
      "metadata": {
        "colab": {
          "base_uri": "https://localhost:8080/"
        },
        "id": "SQ95qxAnMm80",
        "outputId": "de20bfbc-4c4c-44d5-a613-a5b74fa9d3e3"
      },
      "execution_count": 43,
      "outputs": [
        {
          "output_type": "stream",
          "name": "stdout",
          "text": [
            "[[1 1 0]\n",
            " [1 0 1]\n",
            " [0 1 1]]\n",
            ".\n",
            ".\n",
            ".\n",
            ".\n",
            ".\n",
            ".\n",
            "\n",
            "[[ 0.70710678  0.70710678  0.        ]\n",
            " [ 0.40824829 -0.40824829  0.81649658]\n",
            " [-0.57735027  0.57735027  0.57735027]]\n"
          ]
        }
      ]
    },
    {
      "cell_type": "markdown",
      "source": [
        "1.2.4. Eigenvalues and eigenvectors"
      ],
      "metadata": {
        "id": "O2MSc7OSRvQh"
      }
    },
    {
      "cell_type": "code",
      "source": [
        "#eigen function\n",
        "a = np.array([[4, 1, 1], [1, 4, 1], [1, 1, 4]])\n",
        "values, vectors = np.linalg.eig(a)\n",
        "print(\"Matrix a:\", a)\n",
        "print(\"Eigenvalues:\", values)\n",
        "print(\"Eigenvectors:\\n\", vectors)"
      ],
      "metadata": {
        "colab": {
          "base_uri": "https://localhost:8080/"
        },
        "id": "973kMLXLRx3J",
        "outputId": "b5df183c-e224-47bc-ac5d-8122aac7448a"
      },
      "execution_count": 46,
      "outputs": [
        {
          "output_type": "stream",
          "name": "stdout",
          "text": [
            "Matrix a: [[4 1 1]\n",
            " [1 4 1]\n",
            " [1 1 4]]\n",
            "Eigenvalues: [6. 3. 3.]\n",
            "Eigenvectors:\n",
            " [[-0.57735027 -0.81649658 -0.15430335]\n",
            " [-0.57735027  0.40824829 -0.6172134 ]\n",
            " [-0.57735027  0.40824829  0.77151675]]\n"
          ]
        }
      ]
    },
    {
      "cell_type": "code",
      "source": [
        "#diagonalization\n",
        "\n",
        "d = np.diag(values)\n",
        "print(\"diagonal matrix d:\", d)\n",
        "\n",
        "inveig = np.linalg.inv(vectors)\n",
        "print(\"inverse of eigenvectors:\\n\", inveig)\n",
        "\n",
        "newA = vectors @ d @ inveig\n",
        "print(\"newA:\\n\", newA)"
      ],
      "metadata": {
        "colab": {
          "base_uri": "https://localhost:8080/"
        },
        "id": "gr_y_S4cS9EM",
        "outputId": "67f90e15-a618-4fb6-f35b-926779f52ec3"
      },
      "execution_count": 48,
      "outputs": [
        {
          "output_type": "stream",
          "name": "stdout",
          "text": [
            "diagonal matrix d: [[6. 0. 0.]\n",
            " [0. 3. 0.]\n",
            " [0. 0. 3.]]\n",
            "inverse of eigenvectors:\n",
            " [[-5.77350269e-01 -5.77350269e-01 -5.77350269e-01]\n",
            " [-8.16496581e-01  5.44331054e-01  2.72165527e-01]\n",
            " [ 1.75879429e-15 -7.20082300e-01  7.20082300e-01]]\n",
            "newA:\n",
            " [[4. 1. 1.]\n",
            " [1. 4. 1.]\n",
            " [1. 1. 4.]]\n"
          ]
        }
      ]
    },
    {
      "cell_type": "markdown",
      "source": [],
      "metadata": {
        "id": "l-NSpj0cMhW5"
      }
    }
  ]
}