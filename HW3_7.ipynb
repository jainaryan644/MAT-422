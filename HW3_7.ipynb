{
  "nbformat": 4,
  "nbformat_minor": 0,
  "metadata": {
    "colab": {
      "provenance": [],
      "authorship_tag": "ABX9TyOZcE+6LUqez6HOjvzrduoA",
      "include_colab_link": true
    },
    "kernelspec": {
      "name": "python3",
      "display_name": "Python 3"
    },
    "language_info": {
      "name": "python"
    }
  },
  "cells": [
    {
      "cell_type": "markdown",
      "metadata": {
        "id": "view-in-github",
        "colab_type": "text"
      },
      "source": [
        "<a href=\"https://colab.research.google.com/github/jainaryan644/MAT-422/blob/main/HW3_7.ipynb\" target=\"_parent\"><img src=\"https://colab.research.google.com/assets/colab-badge.svg\" alt=\"Open In Colab\"/></a>"
      ]
    },
    {
      "cell_type": "markdown",
      "source": [
        "3.7.1 Mathematical Formulation\n",
        "\n",
        "Description:\n",
        "The mathematical formulation of a neural network involves defining how inputs are transformed through layers to produce outputs. Neural networks consist of multiple layers, each with neurons (nodes) that apply linear transformations to the inputs and pass them through activation functions to introduce non-linearity.\n",
        "\n",
        "Key Concepts:\n",
        "\n",
        "Input layer: Accepts the features or inputs to the network.\n",
        "Hidden layers: Process the input through neurons and activation functions.\n",
        "Output layer: Produces the final output of the network.\n",
        "Weights (𝑊) and biases (𝑏): Parameters adjusted during training.\n",
        "\n",
        "Mathematical Explanation: For a single neuron in a neural network:\n",
        "\n",
        "𝑧 = 𝑊 ⋅ 𝑋 + 𝑏\n",
        "\n",
        "where:\n",
        "\n",
        "𝑋 is the input vector,\n",
        "𝑊 is the weight vector,\n",
        "𝑏 is the bias term.\n",
        "Then, we apply an activation function\n",
        "𝜎(𝑧) to introduce non-linearity:\n",
        "\n",
        "𝑎 = 𝜎(𝑧)\n",
        "\n",
        "𝑎 is the output (or activation) of the neuron.\n",
        "\n",
        "For a layer of neurons, this process is repeated for each neuron in the layer."
      ],
      "metadata": {
        "id": "PSoUqGyrnox4"
      }
    },
    {
      "cell_type": "code",
      "source": [
        "import numpy as np\n",
        "import matplotlib.pyplot as plt\n"
      ],
      "metadata": {
        "id": "MyCj_PldofUf"
      },
      "execution_count": 9,
      "outputs": []
    },
    {
      "cell_type": "code",
      "source": [
        "\n",
        "# Define the activation function (ReLU in this case)\n",
        "def relu(z):\n",
        "    return np.maximum(0, z)\n",
        "\n",
        "# Sample input vector (features)\n",
        "X = np.array([1.0, 2.0, 3.0])\n",
        "\n",
        "# Initialize weights and biases for each layer\n",
        "# Layer 1\n",
        "W1 = np.array([[0.2, 0.4, 0.6], [-0.5, 0.3, -0.8]])  # 2 neurons, each with 3 inputs\n",
        "b1 = np.array([0.1, -0.2])\n",
        "\n",
        "# Layer 2\n",
        "W2 = np.array([[0.3, -0.7], [0.5, 0.1]])  # 2 neurons, each with 2 inputs from the previous layer\n",
        "b2 = np.array([0.3, 0.1])\n",
        "\n",
        "# Output Layer (Layer 3)\n",
        "W3 = np.array([[0.4, 0.6]])  # 1 output neuron with 2 inputs from the previous layer\n",
        "b3 = np.array([0.2])\n",
        "\n",
        "# Feedforward Pass\n",
        "# Layer 1\n",
        "z1 = np.dot(W1, X) + b1\n",
        "a1 = relu(z1)\n",
        "\n",
        "# Layer 2\n",
        "z2 = np.dot(W2, a1) + b2\n",
        "a2 = relu(z2)\n",
        "\n",
        "# Output Layer (Layer 3)\n",
        "z3 = np.dot(W3, a2) + b3\n",
        "a3 = z3  # Assuming a linear output for regression, no activation function here\n",
        "\n",
        "print(\"Output of Layer 1 (a1):\", a1)\n",
        "print(\"Output of Layer 2 (a2):\", a2)\n",
        "print(\"Final Output (a3):\", a3)\n"
      ],
      "metadata": {
        "colab": {
          "base_uri": "https://localhost:8080/"
        },
        "id": "HidjXfvvoc_O",
        "outputId": "90ab8efd-f660-498a-dcd2-0b37d63f1e77"
      },
      "execution_count": 10,
      "outputs": [
        {
          "output_type": "stream",
          "name": "stdout",
          "text": [
            "Output of Layer 1 (a1): [2.9 0. ]\n",
            "Output of Layer 2 (a2): [1.17 1.55]\n",
            "Final Output (a3): [1.598]\n"
          ]
        }
      ]
    },
    {
      "cell_type": "markdown",
      "source": [
        "3.7.2 Activation Functions\n",
        "\n",
        "Description:\n",
        "Activation functions are mathematical functions applied to the output of each neuron. They introduce non-linearity, allowing the network to learn complex patterns. Without activation functions, neural networks would only perform linear transformations, limiting their expressive power.\n",
        "\n",
        "Key Math Concepts:\n",
        "Sigmoid: σ(z) = 1 / (1+e^-z) ranges from 0 to 1\n",
        "ReLU: σ(z) = max (0, z) introduces sparsity and avoids the vanishing gradient problem\n",
        "\n",
        "Tanh: tanh(z) = (e^z - e^-z) / (e^z + e^-z) ranges from -1 to 1"
      ],
      "metadata": {
        "id": "nvwL4r4gotZr"
      }
    },
    {
      "cell_type": "code",
      "source": [
        "\n",
        "# Define activation functions\n",
        "def sigmoid(z):\n",
        "    return 1 / (1 + np.exp(-z))\n",
        "\n",
        "def relu(z):\n",
        "    return np.maximum(0, z)\n",
        "\n",
        "def tanh(z):\n",
        "    return np.tanh(z)\n",
        "\n",
        "# Generate values to plot\n",
        "z = np.linspace(-5, 5, 100)\n",
        "\n",
        "# Plot activation functions\n",
        "plt.figure(figsize=(10, 6))\n",
        "plt.plot(z, sigmoid(z), label=\"Sigmoid\")\n",
        "plt.plot(z, relu(z), label=\"ReLU\")\n",
        "plt.plot(z, tanh(z), label=\"Tanh\")\n",
        "plt.title(\"Activation Functions\")\n",
        "plt.xlabel(\"z\")\n",
        "plt.ylabel(\"Activation\")\n",
        "plt.legend()\n",
        "plt.grid()\n",
        "plt.show()\n"
      ],
      "metadata": {
        "colab": {
          "base_uri": "https://localhost:8080/",
          "height": 435
        },
        "id": "vtTMJjPzpXkP",
        "outputId": "79b6b351-8080-43f3-9a6e-5b733ece0ba5"
      },
      "execution_count": 11,
      "outputs": [
        {
          "output_type": "display_data",
          "data": {
            "text/plain": [
              "<Figure size 1000x600 with 1 Axes>"
            ],
            "image/png": "[encoded data removed]"
          },
          "metadata": {}
        }
      ]
    },
    {
      "cell_type": "markdown",
      "source": [
        "3.7.3 Cost Function\n",
        "\n",
        "The cost function (or loss function) measures the difference between the predicted values and the actual values. In neural networks, the goal is to minimize the cost function by adjusting the weights and biases through training.\n",
        "\n",
        "Key concepts:\n",
        "Mean Square Error: Used for regression tasks\n",
        "Cross-Entropy Loss: Commonly used for classification tasks\n",
        "\n",
        "Mathematical Explanation:\n",
        "1. MSE for regression:\n",
        "MSE = 1/n n∑i=1 (yi - yhati)^2\n",
        "2. Cross-entropy loss for binary classification:\n",
        "= -1/n n∑i=1[yi log(yhati) + (1-yi)log(1-yhati)]\n",
        "\n"
      ],
      "metadata": {
        "id": "Rjk8msPEpjUD"
      }
    },
    {
      "cell_type": "code",
      "source": [
        "# Sample true and predicted values\n",
        "y_true = np.array([1, 0, 1, 1])\n",
        "y_pred = np.array([0.9, 0.2, 0.7, 0.8])\n",
        "\n",
        "# Mean Squared Error\n",
        "mse = np.mean((y_true - y_pred) ** 2)\n",
        "print(f\"Mean Squared Error: {mse}\")\n",
        "\n",
        "# Cross-Entropy Loss\n",
        "cross_entropy_loss = -np.mean(y_true * np.log(y_pred) + (1 - y_true) * np.log(1 - y_pred))\n",
        "print(f\"Cross-Entropy Loss: {cross_entropy_loss}\")\n"
      ],
      "metadata": {
        "colab": {
          "base_uri": "https://localhost:8080/"
        },
        "id": "_lWf33nWpolx",
        "outputId": "404ecdc8-2731-47e5-9bda-0a179a4d4912"
      },
      "execution_count": 12,
      "outputs": [
        {
          "output_type": "stream",
          "name": "stdout",
          "text": [
            "Mean Squared Error: 0.045\n",
            "Cross-Entropy Loss: 0.22708064055624455\n"
          ]
        }
      ]
    },
    {
      "cell_type": "markdown",
      "source": [
        "3.7.4 Backpropagation\n",
        "Backpropagation is the process of computing the gradients of the cost function with respect to the weights and biases in the network. These gradients are used to update the parameters during training, allowing the network to learn.\n",
        "\n",
        "Key Concepts:\n",
        "\n",
        "Gradient: The derivative of the cost function with respect to each parameter.\n",
        "Chain Rule: Used to compute the gradients layer by layer, moving backward from the output layer to the input layer.\n",
        "Mathematical Explanation: Backpropagation applies the chain rule to calculate the gradient of the cost function with respect to each parameter. If 𝐶 is the cost function, the gradient of 𝐶 with respect to a weight 𝑤 in a given layer is computed by differentiating each layer step-by-step"
      ],
      "metadata": {
        "id": "jcOm4hecqZiU"
      }
    },
    {
      "cell_type": "code",
      "source": [
        "# Simplified example: gradient of cost with respect to weights\n",
        "y_true = 1\n",
        "y_pred = 0.9\n",
        "\n",
        "# Calculate the error\n",
        "error = y_pred - y_true\n",
        "\n",
        "# Gradient of the cost function with respect to y_pred\n",
        "grad_y_pred = 2 * error\n",
        "\n",
        "# Suppose the input to the neuron was x = 0.5 and weight was w = 0.4\n",
        "x = 0.5\n",
        "w = 0.4\n",
        "\n",
        "# Backpropagate the gradient to calculate the gradient with respect to the weight\n",
        "grad_w = grad_y_pred * x\n",
        "print(f\"Gradient with respect to weight: {grad_w}\")\n"
      ],
      "metadata": {
        "colab": {
          "base_uri": "https://localhost:8080/"
        },
        "id": "WITRCCSYqnC2",
        "outputId": "a4d5ac7b-34f6-40e1-b270-669067ac4d05"
      },
      "execution_count": 13,
      "outputs": [
        {
          "output_type": "stream",
          "name": "stdout",
          "text": [
            "Gradient with respect to weight: -0.09999999999999998\n"
          ]
        }
      ]
    },
    {
      "cell_type": "markdown",
      "source": [
        "3.7.5 Backpropagation Algorithm\n",
        "\n",
        "Description:\n",
        "The backpropagation algorithm uses the gradients computed during backpropagation to update the network’s weights and biases. This is typically done using an optimization algorithm like gradient descent.\n",
        "\n",
        "Key Concepts:\n",
        "\n",
        "Learning Rate: Controls the size of the updates to the weights and biases.\n",
        "Gradient Descent: An optimization technique that adjusts parameters in the opposite direction of the gradient.\n",
        "\n",
        "Mathematical Explanation: In gradient descent, the weights and biases are updated as follows:\n",
        "\n",
        "w = w - a (∂C/∂w)\n",
        "b = b - a (∂C/∂b)\n",
        "\n",
        "where:\n",
        "a is the learning rate,\n",
        "∂C/∂w is the gradient of the cost function with respect to b\n",
        "∂C/∂b is the gradient of the cost function with respect to b\n"
      ],
      "metadata": {
        "id": "zXmWTUWaqp-V"
      }
    },
    {
      "cell_type": "code",
      "source": [
        " # Sample data\n",
        "x = 0.5  # Input\n",
        "y_true = 1  # True output\n",
        "w = 0.4  # Initial weight\n",
        "b = 0.1  # Initial bias\n",
        "learning_rate = 0.01\n",
        "\n",
        "# Forward pass: prediction\n",
        "y_pred = w * x + b\n",
        "\n",
        "# Compute the cost (MSE)\n",
        "error = y_pred - y_true\n",
        "cost = error ** 2\n",
        "\n",
        "# Backward pass: compute gradients\n",
        "grad_y_pred = 2 * error\n",
        "grad_w = grad_y_pred * x\n",
        "grad_b = grad_y_pred\n",
        "\n",
        "# Update weights and biases\n",
        "w -= learning_rate * grad_w\n",
        "b -= learning_rate * grad_b\n",
        "\n",
        "print(f\"Updated weight: {w}\")\n",
        "print(f\"Updated bias: {b}\")\n"
      ],
      "metadata": {
        "colab": {
          "base_uri": "https://localhost:8080/"
        },
        "id": "quZ8202krna1",
        "outputId": "fa63c121-4848-43e6-d5ed-5ad7ca2ca500"
      },
      "execution_count": 14,
      "outputs": [
        {
          "output_type": "stream",
          "name": "stdout",
          "text": [
            "Updated weight: 0.40700000000000003\n",
            "Updated bias: 0.114\n"
          ]
        }
      ]
    }
  ]
}