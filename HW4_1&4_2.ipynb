{
  "nbformat": 4,
  "nbformat_minor": 0,
  "metadata": {
    "colab": {
      "provenance": [],
      "authorship_tag": "ABX9TyOlocIW/63d5emPdVc745RS",
      "include_colab_link": true
    },
    "kernelspec": {
      "name": "python3",
      "display_name": "Python 3"
    },
    "language_info": {
      "name": "python"
    }
  },
  "cells": [
    {
      "cell_type": "markdown",
      "metadata": {
        "id": "view-in-github",
        "colab_type": "text"
      },
      "source": [
        "<a href=\"https://colab.research.google.com/github/jainaryan644/MAT-422/blob/main/HW4_1%264_2.ipynb\" target=\"_parent\"><img src=\"https://colab.research.google.com/assets/colab-badge.svg\" alt=\"Open In Colab\"/></a>"
      ]
    },
    {
      "cell_type": "markdown",
      "source": [
        "HW 4.2 Graph and Graph Modeling\n",
        "\n",
        "Graphs are mathematical structures used to model relationships between entities. They are widely used in computer science, network theory, machine learning, and social network analysis. Graphs consist of nodes (or vertices) and edges (or connections), which represent relationships between the nodes.\n",
        "\n",
        "\n",
        "Key Concepts in Graphs\n",
        "Graph:\n",
        "\n",
        "A graph\n",
        "G=(V,E), where:\n",
        "- V is the set of nodes (vertices)\n",
        "- E is the set of edges (connections between nodes).\n",
        "\n",
        "Types of Graphs:\n",
        "- Undirected Graph: Edges have no direction (u,v) means u is connected to v, and vice versa.\n",
        "\n",
        "- Directed Graph (Digraph): Edges have direction (e.g., (u,v) means u points to v).\n",
        "\n",
        "- Weighted Graph: Edges have weights or costs associated with them (e.g., distance, time, or cost).\n",
        "\n",
        "- Unweighted Graph: Edges do not have weights.\n",
        "Special Types of Graphs:\n",
        "\n",
        "- Tree: A connected graph with no cycles.\n",
        "\n",
        "- Bipartite Graph: Nodes can be divided into two disjoint sets such that every edge connects a node from one set to another.\n",
        "Complete Graph: Every pair of nodes is connected.\n",
        "\n",
        "- Adjacency Matrix: A matrix representation of a graph where A[i][j]=1 if there is an edge from node i to node j, otherwise A[i][j]=0.\n",
        "\n",
        "- Adjacency List: A list representation of a graph where each node has a list of its neighboring nodes.\n",
        "\n",
        "\n",
        "Applications of Graphs:\n",
        "\n",
        "- Social Networks: Nodes represent users, and edges represent friendships or connections.\n",
        "- Transportation Networks: Nodes represent cities, and edges represent roads or routes.\n",
        "- Dependency Analysis: Nodes represent tasks, and edges represent dependencies between tasks.\n",
        "- Knowledge Graphs: Nodes represent entities, and edges represent relationships.\n",
        "\n",
        "Mathematical Methods in Graphs\n",
        "- Path: A sequence of edges connecting nodes. For example, in a graph G, a path from u to v is u→v1→v2→v.\n",
        "- Cycle: A path where the first and last nodes are the same.\n",
        "- Degree:\n",
        "  - Degree of a node: The number of edges connected to it.\n",
        "  - In-degree: For directed graphs, the number of edges pointing to a node.\n",
        "  - Out-degree: For directed graphs, the number of edges pointing out of a node.\n",
        "- Graph Traversal:\n",
        "  - Breadth-First Search (BFS): Explores nodes layer by layer.\n",
        "  - Depth-First Search (DFS): Explores as far as possible along a branch before backtracking.\n",
        "\n",
        "\n"
      ],
      "metadata": {
        "id": "4NrRS618de2y"
      }
    },
    {
      "cell_type": "code",
      "source": [
        "from collections import deque\n",
        "\n",
        "# Representing a graph using an adjacency list\n",
        "graph = {\n",
        "    \"A\": [\"B\", \"C\"],\n",
        "    \"B\": [\"A\", \"D\", \"E\"],\n",
        "    \"C\": [\"A\", \"F\"],\n",
        "    \"D\": [\"B\"],\n",
        "    \"E\": [\"B\", \"F\"],\n",
        "    \"F\": [\"C\", \"E\"]\n",
        "}\n",
        "\n",
        "# Breadth-First Search (BFS)\n",
        "def bfs(graph, start):\n",
        "    visited = set()  # Keep track of visited nodes\n",
        "    queue = deque([start])  # Initialize the queue with the start node\n",
        "    traversal_order = []\n",
        "\n",
        "    while queue:\n",
        "        node = queue.popleft()\n",
        "        if node not in visited:\n",
        "            visited.add(node)\n",
        "            traversal_order.append(node)\n",
        "            # Add neighbors to the queue\n",
        "            queue.extend(neighbor for neighbor in graph[node] if neighbor not in visited)\n",
        "\n",
        "    return traversal_order\n",
        "\n",
        "# Depth-First Search (DFS)\n",
        "def dfs(graph, start, visited=None):\n",
        "    if visited is None:\n",
        "        visited = set()\n",
        "    visited.add(start)\n",
        "    traversal_order = [start]\n",
        "\n",
        "    for neighbor in graph[start]:\n",
        "        if neighbor not in visited:\n",
        "            traversal_order.extend(dfs(graph, neighbor, visited))\n",
        "\n",
        "    return traversal_order\n",
        "\n",
        "# Perform BFS and DFS traversals\n",
        "start_node = \"A\"\n",
        "bfs_result = bfs(graph, start_node)\n",
        "dfs_result = dfs(graph, start_node)\n",
        "\n",
        "print(f\"BFS Traversal starting from {start_node}: {bfs_result}\")\n",
        "print(f\"DFS Traversal starting from {start_node}: {dfs_result}\")\n"
      ],
      "metadata": {
        "colab": {
          "base_uri": "https://localhost:8080/"
        },
        "id": "viSUYuIPd7LO",
        "outputId": "199383e7-c326-4c66-9ae7-21733d545d4d"
      },
      "execution_count": 1,
      "outputs": [
        {
          "output_type": "stream",
          "name": "stdout",
          "text": [
            "BFS Traversal starting from A: ['A', 'B', 'C', 'D', 'E', 'F']\n",
            "DFS Traversal starting from A: ['A', 'B', 'D', 'E', 'F', 'C']\n"
          ]
        }
      ]
    }
  ]
}